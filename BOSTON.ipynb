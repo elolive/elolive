{
  "nbformat": 4,
  "nbformat_minor": 0,
  "metadata": {
    "colab": {
      "name": "Untitled24.ipynb",
      "provenance": [],
      "authorship_tag": "ABX9TyO8VuM/3cHEnLl+K/RcfPce",
      "include_colab_link": true
    },
    "kernelspec": {
      "name": "python3",
      "display_name": "Python 3"
    },
    "accelerator": "GPU"
  },
  "cells": [
    {
      "cell_type": "markdown",
      "metadata": {
        "id": "view-in-github",
        "colab_type": "text"
      },
      "source": [
        "<a href=\"https://colab.research.google.com/github/elolive/elolive/blob/master/BOSTON.ipynb\" target=\"_parent\"><img src=\"https://colab.research.google.com/assets/colab-badge.svg\" alt=\"Open In Colab\"/></a>"
      ]
    },
    {
      "cell_type": "code",
      "metadata": {
        "id": "PSjJ2R2c3bh9",
        "colab_type": "code",
        "colab": {
          "base_uri": "https://localhost:8080/",
          "height": 34
        },
        "outputId": "b42cb7d2-116b-4fce-e0b6-5c982af55b17"
      },
      "source": [
        "try:\n",
        "    # %tensorflow_version only exists in Colab.\n",
        "    %tensorflow_version 2.x\n",
        "except Exception:\n",
        "    pass"
      ],
      "execution_count": 1,
      "outputs": [
        {
          "output_type": "stream",
          "text": [
            "TensorFlow 2.x selected.\n"
          ],
          "name": "stdout"
        }
      ]
    },
    {
      "cell_type": "code",
      "metadata": {
        "id": "gLAB_5n_3i1M",
        "colab_type": "code",
        "colab": {}
      },
      "source": [
        "import tensorflow as tf"
      ],
      "execution_count": 0,
      "outputs": []
    },
    {
      "cell_type": "code",
      "metadata": {
        "id": "OEKIWbyj3qbk",
        "colab_type": "code",
        "colab": {}
      },
      "source": [
        "import matplotlib.pyplot as plt"
      ],
      "execution_count": 0,
      "outputs": []
    },
    {
      "cell_type": "code",
      "metadata": {
        "id": "cHEDRxGj3sxh",
        "colab_type": "code",
        "colab": {}
      },
      "source": [
        "from tensorflow.keras.datasets import boston_housing\n",
        "(train_X, train_Y), (test_X, test_Y) = boston_housing.load_data()"
      ],
      "execution_count": 0,
      "outputs": []
    },
    {
      "cell_type": "code",
      "metadata": {
        "id": "qWRSLlhD35mE",
        "colab_type": "code",
        "colab": {
          "base_uri": "https://localhost:8080/",
          "height": 34
        },
        "outputId": "7182a434-8e11-4bfa-a980-dc512b7c404d"
      },
      "source": [
        "print(train_X.shape)\n"
      ],
      "execution_count": 12,
      "outputs": [
        {
          "output_type": "stream",
          "text": [
            "(404, 13)\n"
          ],
          "name": "stdout"
        }
      ]
    },
    {
      "cell_type": "code",
      "metadata": {
        "id": "yTnOcyog3-RS",
        "colab_type": "code",
        "colab": {
          "base_uri": "https://localhost:8080/",
          "height": 34
        },
        "outputId": "154a953c-a1c5-40a6-91d1-0efe0af20547"
      },
      "source": [
        "print(train_Y.shape)"
      ],
      "execution_count": 13,
      "outputs": [
        {
          "output_type": "stream",
          "text": [
            "(404,)\n"
          ],
          "name": "stdout"
        }
      ]
    },
    {
      "cell_type": "code",
      "metadata": {
        "id": "zgVo6BMg3_5I",
        "colab_type": "code",
        "colab": {
          "base_uri": "https://localhost:8080/",
          "height": 34
        },
        "outputId": "c02d79ad-22e1-4770-b1ff-494590ed82a9"
      },
      "source": [
        "x_mean = train_X.mean()\n",
        "print(x_mean)"
      ],
      "execution_count": 14,
      "outputs": [
        {
          "output_type": "stream",
          "text": [
            "69.79277358530084\n"
          ],
          "name": "stdout"
        }
      ]
    },
    {
      "cell_type": "code",
      "metadata": {
        "id": "wUEDrouQ50y_",
        "colab_type": "code",
        "colab": {
          "base_uri": "https://localhost:8080/",
          "height": 87
        },
        "outputId": "8efe345d-cc7e-4c36-c10e-b632832fe3ea"
      },
      "source": [
        "x_std = train_X.std()\n",
        "\n",
        "train_X -= x_mean\n",
        "train_X /= x_std\n",
        "test_X -= x_mean\n",
        "test_X /= x_std\n",
        "\n",
        "y_mean = train_Y.mean()\n",
        "y_std = train_Y.std()\n",
        "\n",
        "train_Y -= y_mean\n",
        "train_Y /= y_std\n",
        "test_Y-= y_mean\n",
        "test_Y /= y_std\n",
        "\n",
        "print(train_X[0])\n",
        "print(train_Y[0])"
      ],
      "execution_count": 15,
      "outputs": [
        {
          "output_type": "stream",
          "text": [
            "[-0.47482083 -0.48335641 -0.42698208 -0.48335641 -0.47963044 -0.44081941\n",
            "  0.15172056 -0.45581402 -0.45565404  1.64280094 -0.33791894  2.26541184\n",
            " -0.35370929]\n",
            "-0.7821526033779157\n"
          ],
          "name": "stdout"
        }
      ]
    },
    {
      "cell_type": "code",
      "metadata": {
        "id": "DFD7tw7r6TOc",
        "colab_type": "code",
        "colab": {}
      },
      "source": [
        "from tensorflow.keras import layers\n",
        "from tensorflow.keras import models\n"
      ],
      "execution_count": 0,
      "outputs": []
    },
    {
      "cell_type": "code",
      "metadata": {
        "id": "yLm2WwGg7cIM",
        "colab_type": "code",
        "colab": {
          "base_uri": "https://localhost:8080/",
          "height": 298
        },
        "outputId": "238ef3a4-01ac-4e29-90f6-f435e0d84f58"
      },
      "source": [
        "model = models.Sequential()\n",
        "model.add(layers.Dense(52, activation = 'relu', input_shape = (13,)))\n",
        "model.add(layers.Dense(39, activation = 'relu'))\n",
        "model.add(layers.Dense(26, activation = 'relu'))\n",
        "model.add(layers.Dense(1))\n",
        "model.compile(optimizer = tf.keras.optimizers.Adam(lr = 0.07), loss = 'mse')\n",
        "model.summary()\n"
      ],
      "execution_count": 65,
      "outputs": [
        {
          "output_type": "stream",
          "text": [
            "Model: \"sequential_19\"\n",
            "_________________________________________________________________\n",
            "Layer (type)                 Output Shape              Param #   \n",
            "=================================================================\n",
            "dense_76 (Dense)             (None, 52)                728       \n",
            "_________________________________________________________________\n",
            "dense_77 (Dense)             (None, 39)                2067      \n",
            "_________________________________________________________________\n",
            "dense_78 (Dense)             (None, 26)                1040      \n",
            "_________________________________________________________________\n",
            "dense_79 (Dense)             (None, 1)                 27        \n",
            "=================================================================\n",
            "Total params: 3,862\n",
            "Trainable params: 3,862\n",
            "Non-trainable params: 0\n",
            "_________________________________________________________________\n"
          ],
          "name": "stdout"
        }
      ]
    },
    {
      "cell_type": "code",
      "metadata": {
        "id": "nfcURWna7xRd",
        "colab_type": "code",
        "colab": {
          "base_uri": "https://localhost:8080/",
          "height": 1000
        },
        "outputId": "5a54f498-6e2f-4b1d-d54e-b4c7dd4c7acb"
      },
      "source": [
        "history = model.fit(train_X, train_Y, epochs = 30, batch_size = 32, validation_split = 0.25)"
      ],
      "execution_count": 28,
      "outputs": [
        {
          "output_type": "stream",
          "text": [
            "Train on 303 samples, validate on 101 samples\n",
            "Epoch 1/30\n",
            "303/303 [==============================] - 0s 1ms/sample - loss: 0.9248 - val_loss: 1.2354\n",
            "Epoch 2/30\n",
            "303/303 [==============================] - 0s 137us/sample - loss: 0.9215 - val_loss: 1.2354\n",
            "Epoch 3/30\n",
            "303/303 [==============================] - 0s 136us/sample - loss: 0.9215 - val_loss: 1.2354\n",
            "Epoch 4/30\n",
            "303/303 [==============================] - 0s 127us/sample - loss: 0.9215 - val_loss: 1.2354\n",
            "Epoch 5/30\n",
            "303/303 [==============================] - 0s 122us/sample - loss: 0.9215 - val_loss: 1.2354\n",
            "Epoch 6/30\n",
            "303/303 [==============================] - 0s 126us/sample - loss: 0.9215 - val_loss: 1.2354\n",
            "Epoch 7/30\n",
            "303/303 [==============================] - 0s 125us/sample - loss: 0.9215 - val_loss: 1.2354\n",
            "Epoch 8/30\n",
            "303/303 [==============================] - 0s 161us/sample - loss: 0.9215 - val_loss: 1.2354\n",
            "Epoch 9/30\n",
            "303/303 [==============================] - 0s 129us/sample - loss: 0.9215 - val_loss: 1.2354\n",
            "Epoch 10/30\n",
            "303/303 [==============================] - 0s 125us/sample - loss: 0.9215 - val_loss: 1.2354\n",
            "Epoch 11/30\n",
            "303/303 [==============================] - 0s 127us/sample - loss: 0.9215 - val_loss: 1.2354\n",
            "Epoch 12/30\n",
            "303/303 [==============================] - 0s 152us/sample - loss: 0.9215 - val_loss: 1.2354\n",
            "Epoch 13/30\n",
            "303/303 [==============================] - 0s 128us/sample - loss: 0.9215 - val_loss: 1.2354\n",
            "Epoch 14/30\n",
            "303/303 [==============================] - 0s 142us/sample - loss: 0.9215 - val_loss: 1.2354\n",
            "Epoch 15/30\n",
            "303/303 [==============================] - 0s 133us/sample - loss: 0.9215 - val_loss: 1.2354\n",
            "Epoch 16/30\n",
            "303/303 [==============================] - 0s 121us/sample - loss: 0.9215 - val_loss: 1.2354\n",
            "Epoch 17/30\n",
            "303/303 [==============================] - 0s 120us/sample - loss: 0.9215 - val_loss: 1.2354\n",
            "Epoch 18/30\n",
            "303/303 [==============================] - 0s 125us/sample - loss: 0.9215 - val_loss: 1.2354\n",
            "Epoch 19/30\n",
            "303/303 [==============================] - 0s 117us/sample - loss: 0.9215 - val_loss: 1.2354\n",
            "Epoch 20/30\n",
            "303/303 [==============================] - 0s 142us/sample - loss: 0.9215 - val_loss: 1.2354\n",
            "Epoch 21/30\n",
            "303/303 [==============================] - 0s 121us/sample - loss: 0.9215 - val_loss: 1.2354\n",
            "Epoch 22/30\n",
            "303/303 [==============================] - 0s 122us/sample - loss: 0.9215 - val_loss: 1.2354\n",
            "Epoch 23/30\n",
            "303/303 [==============================] - 0s 131us/sample - loss: 0.9215 - val_loss: 1.2354\n",
            "Epoch 24/30\n",
            "303/303 [==============================] - 0s 143us/sample - loss: 0.9215 - val_loss: 1.2354\n",
            "Epoch 25/30\n",
            "303/303 [==============================] - 0s 163us/sample - loss: 0.9215 - val_loss: 1.2354\n",
            "Epoch 26/30\n",
            "303/303 [==============================] - 0s 130us/sample - loss: 0.9215 - val_loss: 1.2354\n",
            "Epoch 27/30\n",
            "303/303 [==============================] - 0s 139us/sample - loss: 0.9215 - val_loss: 1.2354\n",
            "Epoch 28/30\n",
            "303/303 [==============================] - 0s 126us/sample - loss: 0.9215 - val_loss: 1.2354\n",
            "Epoch 29/30\n",
            "303/303 [==============================] - 0s 132us/sample - loss: 0.9215 - val_loss: 1.2354\n",
            "Epoch 30/30\n",
            "303/303 [==============================] - 0s 119us/sample - loss: 0.9215 - val_loss: 1.2354\n"
          ],
          "name": "stdout"
        }
      ]
    },
    {
      "cell_type": "code",
      "metadata": {
        "id": "toE99zHY8xNg",
        "colab_type": "code",
        "colab": {
          "base_uri": "https://localhost:8080/",
          "height": 298
        },
        "outputId": "1aa287ab-1ce3-4782-e4fc-fe976fa71a32"
      },
      "source": [
        "# 4.13 Boston Housing Dataset 회귀 모델 생성\n",
        "model = tf.keras.Sequential([\n",
        "    tf.keras.layers.Dense(units=52, activation='relu', input_shape=(13,)),\n",
        "    tf.keras.layers.Dense(units=39, activation='relu'),\n",
        "    tf.keras.layers.Dense(units=26, activation='relu'),\n",
        "    tf.keras.layers.Dense(units=1)\n",
        "])\n",
        "\n",
        "model.compile(optimizer=tf.keras.optimizers.Adam(lr=0.07), loss='mse')\n",
        "\n",
        "model.summary()"
      ],
      "execution_count": 29,
      "outputs": [
        {
          "output_type": "stream",
          "text": [
            "Model: \"sequential_4\"\n",
            "_________________________________________________________________\n",
            "Layer (type)                 Output Shape              Param #   \n",
            "=================================================================\n",
            "dense_16 (Dense)             (None, 52)                728       \n",
            "_________________________________________________________________\n",
            "dense_17 (Dense)             (None, 39)                2067      \n",
            "_________________________________________________________________\n",
            "dense_18 (Dense)             (None, 26)                1040      \n",
            "_________________________________________________________________\n",
            "dense_19 (Dense)             (None, 1)                 27        \n",
            "=================================================================\n",
            "Total params: 3,862\n",
            "Trainable params: 3,862\n",
            "Non-trainable params: 0\n",
            "_________________________________________________________________\n"
          ],
          "name": "stdout"
        }
      ]
    },
    {
      "cell_type": "code",
      "metadata": {
        "id": "1c4G_ke2-uyj",
        "colab_type": "code",
        "colab": {
          "base_uri": "https://localhost:8080/",
          "height": 1000
        },
        "outputId": "b5eec820-5154-4a2a-b06b-2daf8a5bd838"
      },
      "source": [
        "history = model.fit(train_X, train_Y, epochs = 30, batch_size = 32, validation_split = 0.25)"
      ],
      "execution_count": 35,
      "outputs": [
        {
          "output_type": "stream",
          "text": [
            "Train on 303 samples, validate on 101 samples\n",
            "Epoch 1/30\n",
            "303/303 [==============================] - 0s 168us/sample - loss: 0.3611 - val_loss: 0.8535\n",
            "Epoch 2/30\n",
            "303/303 [==============================] - 0s 119us/sample - loss: 0.3707 - val_loss: 0.5177\n",
            "Epoch 3/30\n",
            "303/303 [==============================] - 0s 136us/sample - loss: 0.3879 - val_loss: 0.5205\n",
            "Epoch 4/30\n",
            "303/303 [==============================] - 0s 137us/sample - loss: 0.3304 - val_loss: 0.4898\n",
            "Epoch 5/30\n",
            "303/303 [==============================] - 0s 127us/sample - loss: 0.3188 - val_loss: 0.4515\n",
            "Epoch 6/30\n",
            "303/303 [==============================] - 0s 132us/sample - loss: 0.4733 - val_loss: 0.9341\n",
            "Epoch 7/30\n",
            "303/303 [==============================] - 0s 140us/sample - loss: 0.4475 - val_loss: 0.6233\n",
            "Epoch 8/30\n",
            "303/303 [==============================] - 0s 140us/sample - loss: 0.3778 - val_loss: 0.6955\n",
            "Epoch 9/30\n",
            "303/303 [==============================] - 0s 120us/sample - loss: 0.3695 - val_loss: 0.8011\n",
            "Epoch 10/30\n",
            "303/303 [==============================] - 0s 124us/sample - loss: 0.3189 - val_loss: 0.4484\n",
            "Epoch 11/30\n",
            "303/303 [==============================] - 0s 132us/sample - loss: 0.3029 - val_loss: 0.9636\n",
            "Epoch 12/30\n",
            "303/303 [==============================] - 0s 135us/sample - loss: 0.3677 - val_loss: 0.7654\n",
            "Epoch 13/30\n",
            "303/303 [==============================] - 0s 131us/sample - loss: 0.4084 - val_loss: 0.8314\n",
            "Epoch 14/30\n",
            "303/303 [==============================] - 0s 139us/sample - loss: 0.4902 - val_loss: 0.6739\n",
            "Epoch 15/30\n",
            "303/303 [==============================] - 0s 128us/sample - loss: 0.3972 - val_loss: 0.8459\n",
            "Epoch 16/30\n",
            "303/303 [==============================] - 0s 125us/sample - loss: 0.3643 - val_loss: 0.7480\n",
            "Epoch 17/30\n",
            "303/303 [==============================] - 0s 147us/sample - loss: 0.3533 - val_loss: 0.5342\n",
            "Epoch 18/30\n",
            "303/303 [==============================] - 0s 126us/sample - loss: 0.3900 - val_loss: 0.4722\n",
            "Epoch 19/30\n",
            "303/303 [==============================] - 0s 127us/sample - loss: 0.3471 - val_loss: 0.4221\n",
            "Epoch 20/30\n",
            "303/303 [==============================] - 0s 138us/sample - loss: 0.3031 - val_loss: 0.6836\n",
            "Epoch 21/30\n",
            "303/303 [==============================] - 0s 134us/sample - loss: 0.4046 - val_loss: 1.0245\n",
            "Epoch 22/30\n",
            "303/303 [==============================] - 0s 124us/sample - loss: 0.4268 - val_loss: 0.4669\n",
            "Epoch 23/30\n",
            "303/303 [==============================] - 0s 130us/sample - loss: 0.4516 - val_loss: 0.7622\n",
            "Epoch 24/30\n",
            "303/303 [==============================] - 0s 142us/sample - loss: 0.4420 - val_loss: 0.6902\n",
            "Epoch 25/30\n",
            "303/303 [==============================] - 0s 140us/sample - loss: 0.4649 - val_loss: 0.6636\n",
            "Epoch 26/30\n",
            "303/303 [==============================] - 0s 129us/sample - loss: 0.4873 - val_loss: 0.5656\n",
            "Epoch 27/30\n",
            "303/303 [==============================] - 0s 116us/sample - loss: 0.3491 - val_loss: 0.4293\n",
            "Epoch 28/30\n",
            "303/303 [==============================] - 0s 117us/sample - loss: 0.3021 - val_loss: 0.3886\n",
            "Epoch 29/30\n",
            "303/303 [==============================] - 0s 131us/sample - loss: 0.4283 - val_loss: 1.1216\n",
            "Epoch 30/30\n",
            "303/303 [==============================] - 0s 116us/sample - loss: 0.5903 - val_loss: 0.5953\n"
          ],
          "name": "stdout"
        }
      ]
    },
    {
      "cell_type": "code",
      "metadata": {
        "id": "73BTql4w-zzo",
        "colab_type": "code",
        "colab": {
          "base_uri": "https://localhost:8080/",
          "height": 282
        },
        "outputId": "3f971884-8dbc-4640-e841-9ed09ae1272b"
      },
      "source": [
        "plt.plot(history.history['loss'], 'b', label='loss')\n",
        "plt.plot(history.history['val_loss'], 'r', label='loss')\n"
      ],
      "execution_count": 36,
      "outputs": [
        {
          "output_type": "execute_result",
          "data": {
            "text/plain": [
              "[<matplotlib.lines.Line2D at 0x7fe0487a29b0>]"
            ]
          },
          "metadata": {
            "tags": []
          },
          "execution_count": 36
        },
        {
          "output_type": "display_data",
          "data": {
            "image/png": "[encoded data removed]",
            "text/plain": [
              "<Figure size 432x288 with 1 Axes>"
            ]
          },
          "metadata": {
            "tags": []
          }
        }
      ]
    },
    {
      "cell_type": "code",
      "metadata": {
        "id": "r3PtIF7RAKWF",
        "colab_type": "code",
        "colab": {
          "base_uri": "https://localhost:8080/",
          "height": 52
        },
        "outputId": "7908e856-3fab-453c-da2c-44e9c523fa14"
      },
      "source": [
        "model.evaluate(test_X, test_Y)"
      ],
      "execution_count": 37,
      "outputs": [
        {
          "output_type": "stream",
          "text": [
            "102/102 [==============================] - 0s 106us/sample - loss: 0.4399\n"
          ],
          "name": "stdout"
        },
        {
          "output_type": "execute_result",
          "data": {
            "text/plain": [
              "0.439892078147215"
            ]
          },
          "metadata": {
            "tags": []
          },
          "execution_count": 37
        }
      ]
    },
    {
      "cell_type": "code",
      "metadata": {
        "id": "vxKfz_L4AZMX",
        "colab_type": "code",
        "colab": {
          "base_uri": "https://localhost:8080/",
          "height": 339
        },
        "outputId": "91c77ca6-ce0b-41ba-b26e-f14bed549da4"
      },
      "source": [
        "pred_Y = model.predict(test_X)\n",
        "\n",
        "plt.figure(figsize = (5,5))\n",
        "plt.plot(test_Y, pred_Y,'b.')\n",
        "plt.axis([min(test_Y), max(test_Y), min(test_Y), max(test_Y)])\n",
        "\n",
        "plt.plot([min(test_Y), max(test_Y)], [min(test_Y), max(test_Y)], ls=\"--\", c=\".3\")\n",
        "plt.xlabel('test_Y')\n",
        "plt.ylabel('pred_Y')\n",
        "\n",
        "plt.show()"
      ],
      "execution_count": 42,
      "outputs": [
        {
          "output_type": "display_data",
          "data": {
            "image/png": "[encoded data removed]",
            "text/plain": [
              "<Figure size 360x360 with 1 Axes>"
            ]
          },
          "metadata": {
            "tags": []
          }
        }
      ]
    },
    {
      "cell_type": "code",
      "metadata": {
        "id": "SDl5HHDFBz_J",
        "colab_type": "code",
        "colab": {
          "base_uri": "https://localhost:8080/",
          "height": 914
        },
        "outputId": "54d3d7ed-321a-437b-ccb0-cd648d752c8a"
      },
      "source": [
        "model = tf.keras.Sequential([\n",
        "                              tf.keras.layers.Dense(52, activation = 'relu', input_shape = (13,)),\n",
        "                               tf.keras.layers.Dense(39, activation = 'relu'),\n",
        "                               tf.keras.layers.Dense(26, activation = 'relu'),\n",
        "                               tf.keras.layers.Dense(1)   \n",
        "])\n",
        "model.compile(optimizer = tf.keras.optimizers.Adam(lr = 0.07), loss = 'mse')\n",
        "history = model.fit(train_X, train_Y, epochs=25, batch_size=32, validation_split=0.25, callbacks=[tf.keras.callbacks.EarlyStopping(patience=5, monitor='val_loss')])"
      ],
      "execution_count": 60,
      "outputs": [
        {
          "output_type": "stream",
          "text": [
            "Train on 303 samples, validate on 101 samples\n",
            "Epoch 1/25\n",
            "303/303 [==============================] - 0s 1ms/sample - loss: 1.5868 - val_loss: 1.2454\n",
            "Epoch 2/25\n",
            "303/303 [==============================] - 0s 136us/sample - loss: 0.7572 - val_loss: 1.0631\n",
            "Epoch 3/25\n",
            "303/303 [==============================] - 0s 132us/sample - loss: 0.7046 - val_loss: 1.1132\n",
            "Epoch 4/25\n",
            "303/303 [==============================] - 0s 119us/sample - loss: 0.6487 - val_loss: 1.0651\n",
            "Epoch 5/25\n",
            "303/303 [==============================] - 0s 124us/sample - loss: 0.6793 - val_loss: 1.0417\n",
            "Epoch 6/25\n",
            "303/303 [==============================] - 0s 117us/sample - loss: 0.6824 - val_loss: 1.1163\n",
            "Epoch 7/25\n",
            "303/303 [==============================] - 0s 126us/sample - loss: 0.7415 - val_loss: 1.0787\n",
            "Epoch 8/25\n",
            "303/303 [==============================] - 0s 126us/sample - loss: 0.6892 - val_loss: 1.2250\n",
            "Epoch 9/25\n",
            "303/303 [==============================] - 0s 140us/sample - loss: 0.6595 - val_loss: 1.0432\n",
            "Epoch 10/25\n",
            "303/303 [==============================] - 0s 142us/sample - loss: 0.6454 - val_loss: 1.0179\n",
            "Epoch 11/25\n",
            "303/303 [==============================] - 0s 112us/sample - loss: 0.6533 - val_loss: 1.0256\n",
            "Epoch 12/25\n",
            "303/303 [==============================] - 0s 114us/sample - loss: 0.6305 - val_loss: 1.1872\n",
            "Epoch 13/25\n",
            "303/303 [==============================] - 0s 120us/sample - loss: 0.6189 - val_loss: 1.1666\n",
            "Epoch 14/25\n",
            "303/303 [==============================] - 0s 132us/sample - loss: 0.6540 - val_loss: 1.1021\n",
            "Epoch 15/25\n",
            "303/303 [==============================] - 0s 158us/sample - loss: 0.6124 - val_loss: 0.9821\n",
            "Epoch 16/25\n",
            "303/303 [==============================] - 0s 121us/sample - loss: 0.6210 - val_loss: 0.9923\n",
            "Epoch 17/25\n",
            "303/303 [==============================] - 0s 133us/sample - loss: 0.6212 - val_loss: 0.9819\n",
            "Epoch 18/25\n",
            "303/303 [==============================] - 0s 135us/sample - loss: 0.5873 - val_loss: 0.9785\n",
            "Epoch 19/25\n",
            "303/303 [==============================] - 0s 122us/sample - loss: 0.6007 - val_loss: 1.0173\n",
            "Epoch 20/25\n",
            "303/303 [==============================] - 0s 121us/sample - loss: 0.6303 - val_loss: 0.9967\n",
            "Epoch 21/25\n",
            "303/303 [==============================] - 0s 131us/sample - loss: 0.6081 - val_loss: 1.1422\n",
            "Epoch 22/25\n",
            "303/303 [==============================] - 0s 130us/sample - loss: 0.6570 - val_loss: 1.2341\n",
            "Epoch 23/25\n",
            "303/303 [==============================] - 0s 134us/sample - loss: 0.5897 - val_loss: 0.9646\n",
            "Epoch 24/25\n",
            "303/303 [==============================] - 0s 125us/sample - loss: 0.5980 - val_loss: 1.0154\n",
            "Epoch 25/25\n",
            "303/303 [==============================] - 0s 123us/sample - loss: 0.6072 - val_loss: 1.0276\n"
          ],
          "name": "stdout"
        }
      ]
    },
    {
      "cell_type": "code",
      "metadata": {
        "id": "XvDQsQAVCj0L",
        "colab_type": "code",
        "colab": {
          "base_uri": "https://localhost:8080/",
          "height": 265
        },
        "outputId": "70cc409d-8147-4129-e49c-fd6ccff1a184"
      },
      "source": [
        "plt.plot(history.history['loss'], 'b-', label = 'loss')\n",
        "plt.plot(history.history['val_loss'], 'r-', label = 'val_loss')\n",
        "plt.legend()\n",
        "plt.show()\n"
      ],
      "execution_count": 61,
      "outputs": [
        {
          "output_type": "display_data",
          "data": {
            "image/png": "[encoded data removed]",
            "text/plain": [
              "<Figure size 432x288 with 1 Axes>"
            ]
          },
          "metadata": {
            "tags": []
          }
        }
      ]
    },
    {
      "cell_type": "code",
      "metadata": {
        "id": "yu0PF8UPDRdL",
        "colab_type": "code",
        "colab": {
          "base_uri": "https://localhost:8080/",
          "height": 52
        },
        "outputId": "d19a7715-58b8-4597-f152-451d40d6e593"
      },
      "source": [
        "model.evaluate(test_X, test_Y)"
      ],
      "execution_count": 62,
      "outputs": [
        {
          "output_type": "stream",
          "text": [
            "102/102 [==============================] - 0s 148us/sample - loss: 0.6796\n"
          ],
          "name": "stdout"
        },
        {
          "output_type": "execute_result",
          "data": {
            "text/plain": [
              "0.6796378388124353"
            ]
          },
          "metadata": {
            "tags": []
          },
          "execution_count": 62
        }
      ]
    },
    {
      "cell_type": "code",
      "metadata": {
        "id": "UJoHzhIdEflL",
        "colab_type": "code",
        "colab": {
          "base_uri": "https://localhost:8080/",
          "height": 338
        },
        "outputId": "99f755ef-4724-4a5d-deb1-f06cd2dd0f59"
      },
      "source": [
        "pred_Y = model.predict(test_X)\n",
        "\n",
        "plt.figure(figsize = (5,5))\n",
        "plt.plot(test_Y, pred_Y, 'b.')\n"
      ],
      "execution_count": 64,
      "outputs": [
        {
          "output_type": "execute_result",
          "data": {
            "text/plain": [
              "[<matplotlib.lines.Line2D at 0x7fe0484275c0>]"
            ]
          },
          "metadata": {
            "tags": []
          },
          "execution_count": 64
        },
        {
          "output_type": "display_data",
          "data": {
            "image/png": "[encoded data removed]",
            "text/plain": [
              "<Figure size 360x360 with 1 Axes>"
            ]
          },
          "metadata": {
            "tags": []
          }
        }
      ]
    },
    {
      "cell_type": "code",
      "metadata": {
        "id": "_L11GiJ-ErfA",
        "colab_type": "code",
        "colab": {}
      },
      "source": [
        ""
      ],
      "execution_count": 0,
      "outputs": []
    }
  ]
}