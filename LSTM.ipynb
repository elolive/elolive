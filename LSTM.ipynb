{
  "nbformat": 4,
  "nbformat_minor": 0,
  "metadata": {
    "colab": {
      "name": "LSTM.ipynb",
      "provenance": [],
      "authorship_tag": "ABX9TyPEZKSaUwRUfPSfAtS6vE9E",
      "include_colab_link": true
    },
    "kernelspec": {
      "name": "python3",
      "display_name": "Python 3"
    },
    "accelerator": "GPU"
  },
  "cells": [
    {
      "cell_type": "markdown",
      "metadata": {
        "id": "view-in-github",
        "colab_type": "text"
      },
      "source": [
        "<a href=\"https://colab.research.google.com/github/elolive/elolive/blob/master/LSTM.ipynb\" target=\"_parent\"><img src=\"https://colab.research.google.com/assets/colab-badge.svg\" alt=\"Open In Colab\"/></a>"
      ]
    },
    {
      "cell_type": "code",
      "metadata": {
        "id": "nBEyHfDqgw9J",
        "colab_type": "code",
        "colab": {}
      },
      "source": [
        "try:\n",
        "    # %tensorflow_version only exists in Colab.\n",
        "    %tensorflow_version 2.x\n",
        "except Exception:\n",
        "    pass\n",
        "import tensorflow as tf\n",
        "import numpy as np"
      ],
      "execution_count": 0,
      "outputs": []
    },
    {
      "cell_type": "code",
      "metadata": {
        "id": "AYrKs-u2p5rj",
        "colab_type": "code",
        "colab": {}
      },
      "source": [
        "\n",
        "from tensorflow.keras import layers\n",
        "from tensorflow.keras import models\n",
        "import matplotlib.pyplot as plt\n"
      ],
      "execution_count": 0,
      "outputs": []
    },
    {
      "cell_type": "code",
      "metadata": {
        "id": "Z-cWaZZeiWyf",
        "colab_type": "code",
        "outputId": "bb593fcb-fdeb-47f7-b7f2-e192a0051724",
        "colab": {
          "base_uri": "https://localhost:8080/",
          "height": 756
        }
      },
      "source": [
        "X = []\n",
        "Y = []\n",
        "\n",
        "for i in range(6):\n",
        "  lst = list(range(i, i+4))\n",
        "  print(lst)\n",
        "  X.append(list(map(lambda c: [c/10], lst)))\n",
        "  Y.append((i + 4) / 10) \n",
        "\n",
        "X = np.array(X)\n",
        "Y = np.array(Y)\n",
        "\n",
        "for i in range(len(X)):\n",
        "  print(X[i],'\\n\\n', Y[i])\n"
      ],
      "execution_count": 102,
      "outputs": [
        {
          "output_type": "stream",
          "text": [
            "[0, 1, 2, 3]\n",
            "[1, 2, 3, 4]\n",
            "[2, 3, 4, 5]\n",
            "[3, 4, 5, 6]\n",
            "[4, 5, 6, 7]\n",
            "[5, 6, 7, 8]\n",
            "[[0. ]\n",
            " [0.1]\n",
            " [0.2]\n",
            " [0.3]] \n",
            "\n",
            " 0.4\n",
            "[[0.1]\n",
            " [0.2]\n",
            " [0.3]\n",
            " [0.4]] \n",
            "\n",
            " 0.5\n",
            "[[0.2]\n",
            " [0.3]\n",
            " [0.4]\n",
            " [0.5]] \n",
            "\n",
            " 0.6\n",
            "[[0.3]\n",
            " [0.4]\n",
            " [0.5]\n",
            " [0.6]] \n",
            "\n",
            " 0.7\n",
            "[[0.4]\n",
            " [0.5]\n",
            " [0.6]\n",
            " [0.7]] \n",
            "\n",
            " 0.8\n",
            "[[0.5]\n",
            " [0.6]\n",
            " [0.7]\n",
            " [0.8]] \n",
            "\n",
            " 0.9\n"
          ],
          "name": "stdout"
        }
      ]
    },
    {
      "cell_type": "code",
      "metadata": {
        "id": "aM2_JzqEj4G1",
        "colab_type": "code",
        "outputId": "d284d329-3fab-489f-de52-df5e25179e09",
        "colab": {
          "base_uri": "https://localhost:8080/",
          "height": 1000
        }
      },
      "source": [
        "model = tf.keras.Sequential([\n",
        "                             tf.keras.layers.SimpleRNN(units = 10, return_sequences = False, input_shape = (4,1)),\n",
        "                             tf.keras.layers.Dense(1)\n",
        "])\n",
        "model.compile(optimizer = 'adam', loss = 'mse')\n",
        "\n",
        "history = model.fit(X, Y, epochs = 100)"
      ],
      "execution_count": 103,
      "outputs": [
        {
          "output_type": "stream",
          "text": [
            "Train on 6 samples\n",
            "Epoch 1/100\n",
            "6/6 [==============================] - 1s 126ms/sample - loss: 0.4564\n",
            "Epoch 2/100\n",
            "6/6 [==============================] - 0s 1ms/sample - loss: 0.4427\n",
            "Epoch 3/100\n",
            "6/6 [==============================] - 0s 1ms/sample - loss: 0.4291\n",
            "Epoch 4/100\n",
            "6/6 [==============================] - 0s 2ms/sample - loss: 0.4158\n",
            "Epoch 5/100\n",
            "6/6 [==============================] - 0s 1ms/sample - loss: 0.4026\n",
            "Epoch 6/100\n",
            "6/6 [==============================] - 0s 992us/sample - loss: 0.3897\n",
            "Epoch 7/100\n",
            "6/6 [==============================] - 0s 1ms/sample - loss: 0.3769\n",
            "Epoch 8/100\n",
            "6/6 [==============================] - 0s 1ms/sample - loss: 0.3643\n",
            "Epoch 9/100\n",
            "6/6 [==============================] - 0s 1ms/sample - loss: 0.3520\n",
            "Epoch 10/100\n",
            "6/6 [==============================] - 0s 1ms/sample - loss: 0.3398\n",
            "Epoch 11/100\n",
            "6/6 [==============================] - 0s 1ms/sample - loss: 0.3278\n",
            "Epoch 12/100\n",
            "6/6 [==============================] - 0s 1ms/sample - loss: 0.3161\n",
            "Epoch 13/100\n",
            "6/6 [==============================] - 0s 1ms/sample - loss: 0.3045\n",
            "Epoch 14/100\n",
            "6/6 [==============================] - 0s 997us/sample - loss: 0.2931\n",
            "Epoch 15/100\n",
            "6/6 [==============================] - 0s 1ms/sample - loss: 0.2818\n",
            "Epoch 16/100\n",
            "6/6 [==============================] - 0s 1ms/sample - loss: 0.2708\n",
            "Epoch 17/100\n",
            "6/6 [==============================] - 0s 1ms/sample - loss: 0.2599\n",
            "Epoch 18/100\n",
            "6/6 [==============================] - 0s 1ms/sample - loss: 0.2492\n",
            "Epoch 19/100\n",
            "6/6 [==============================] - 0s 1ms/sample - loss: 0.2387\n",
            "Epoch 20/100\n",
            "6/6 [==============================] - 0s 1ms/sample - loss: 0.2283\n",
            "Epoch 21/100\n",
            "6/6 [==============================] - 0s 1ms/sample - loss: 0.2182\n",
            "Epoch 22/100\n",
            "6/6 [==============================] - 0s 1ms/sample - loss: 0.2081\n",
            "Epoch 23/100\n",
            "6/6 [==============================] - 0s 940us/sample - loss: 0.1983\n",
            "Epoch 24/100\n",
            "6/6 [==============================] - 0s 930us/sample - loss: 0.1886\n",
            "Epoch 25/100\n",
            "6/6 [==============================] - 0s 907us/sample - loss: 0.1792\n",
            "Epoch 26/100\n",
            "6/6 [==============================] - 0s 1ms/sample - loss: 0.1699\n",
            "Epoch 27/100\n",
            "6/6 [==============================] - 0s 1ms/sample - loss: 0.1608\n",
            "Epoch 28/100\n",
            "6/6 [==============================] - 0s 1ms/sample - loss: 0.1518\n",
            "Epoch 29/100\n",
            "6/6 [==============================] - 0s 2ms/sample - loss: 0.1431\n",
            "Epoch 30/100\n",
            "6/6 [==============================] - 0s 2ms/sample - loss: 0.1346\n",
            "Epoch 31/100\n",
            "6/6 [==============================] - 0s 2ms/sample - loss: 0.1263\n",
            "Epoch 32/100\n",
            "6/6 [==============================] - 0s 2ms/sample - loss: 0.1183\n",
            "Epoch 33/100\n",
            "6/6 [==============================] - 0s 1ms/sample - loss: 0.1104\n",
            "Epoch 34/100\n",
            "6/6 [==============================] - 0s 2ms/sample - loss: 0.1029\n",
            "Epoch 35/100\n",
            "6/6 [==============================] - 0s 1ms/sample - loss: 0.0955\n",
            "Epoch 36/100\n",
            "6/6 [==============================] - 0s 1ms/sample - loss: 0.0884\n",
            "Epoch 37/100\n",
            "6/6 [==============================] - 0s 2ms/sample - loss: 0.0816\n",
            "Epoch 38/100\n",
            "6/6 [==============================] - 0s 1ms/sample - loss: 0.0750\n",
            "Epoch 39/100\n",
            "6/6 [==============================] - 0s 1ms/sample - loss: 0.0688\n",
            "Epoch 40/100\n",
            "6/6 [==============================] - 0s 1ms/sample - loss: 0.0628\n",
            "Epoch 41/100\n",
            "6/6 [==============================] - 0s 1ms/sample - loss: 0.0571\n",
            "Epoch 42/100\n",
            "6/6 [==============================] - 0s 1ms/sample - loss: 0.0517\n",
            "Epoch 43/100\n",
            "6/6 [==============================] - 0s 1ms/sample - loss: 0.0466\n",
            "Epoch 44/100\n",
            "6/6 [==============================] - 0s 861us/sample - loss: 0.0418\n",
            "Epoch 45/100\n",
            "6/6 [==============================] - 0s 1ms/sample - loss: 0.0374\n",
            "Epoch 46/100\n",
            "6/6 [==============================] - 0s 1ms/sample - loss: 0.0332\n",
            "Epoch 47/100\n",
            "6/6 [==============================] - 0s 1ms/sample - loss: 0.0294\n",
            "Epoch 48/100\n",
            "6/6 [==============================] - 0s 1ms/sample - loss: 0.0258\n",
            "Epoch 49/100\n",
            "6/6 [==============================] - 0s 2ms/sample - loss: 0.0226\n",
            "Epoch 50/100\n",
            "6/6 [==============================] - 0s 1ms/sample - loss: 0.0197\n",
            "Epoch 51/100\n",
            "6/6 [==============================] - 0s 1ms/sample - loss: 0.0170\n",
            "Epoch 52/100\n",
            "6/6 [==============================] - 0s 1ms/sample - loss: 0.0147\n",
            "Epoch 53/100\n",
            "6/6 [==============================] - 0s 2ms/sample - loss: 0.0126\n",
            "Epoch 54/100\n",
            "6/6 [==============================] - 0s 2ms/sample - loss: 0.0108\n",
            "Epoch 55/100\n",
            "6/6 [==============================] - 0s 1ms/sample - loss: 0.0093\n",
            "Epoch 56/100\n",
            "6/6 [==============================] - 0s 1ms/sample - loss: 0.0079\n",
            "Epoch 57/100\n",
            "6/6 [==============================] - 0s 960us/sample - loss: 0.0068\n",
            "Epoch 58/100\n",
            "6/6 [==============================] - 0s 1ms/sample - loss: 0.0059\n",
            "Epoch 59/100\n",
            "6/6 [==============================] - 0s 2ms/sample - loss: 0.0052\n",
            "Epoch 60/100\n",
            "6/6 [==============================] - 0s 1ms/sample - loss: 0.0046\n",
            "Epoch 61/100\n",
            "6/6 [==============================] - 0s 1ms/sample - loss: 0.0042\n",
            "Epoch 62/100\n",
            "6/6 [==============================] - 0s 1ms/sample - loss: 0.0039\n",
            "Epoch 63/100\n",
            "6/6 [==============================] - 0s 1ms/sample - loss: 0.0037\n",
            "Epoch 64/100\n",
            "6/6 [==============================] - 0s 1ms/sample - loss: 0.0036\n",
            "Epoch 65/100\n",
            "6/6 [==============================] - 0s 1ms/sample - loss: 0.0035\n",
            "Epoch 66/100\n",
            "6/6 [==============================] - 0s 1ms/sample - loss: 0.0035\n",
            "Epoch 67/100\n",
            "6/6 [==============================] - 0s 1ms/sample - loss: 0.0036\n",
            "Epoch 68/100\n",
            "6/6 [==============================] - 0s 1ms/sample - loss: 0.0037\n",
            "Epoch 69/100\n",
            "6/6 [==============================] - 0s 1ms/sample - loss: 0.0037\n",
            "Epoch 70/100\n",
            "6/6 [==============================] - 0s 1ms/sample - loss: 0.0038\n",
            "Epoch 71/100\n",
            "6/6 [==============================] - 0s 1ms/sample - loss: 0.0039\n",
            "Epoch 72/100\n",
            "6/6 [==============================] - 0s 1ms/sample - loss: 0.0039\n",
            "Epoch 73/100\n",
            "6/6 [==============================] - 0s 1ms/sample - loss: 0.0040\n",
            "Epoch 74/100\n",
            "6/6 [==============================] - 0s 2ms/sample - loss: 0.0040\n",
            "Epoch 75/100\n",
            "6/6 [==============================] - 0s 2ms/sample - loss: 0.0040\n",
            "Epoch 76/100\n",
            "6/6 [==============================] - 0s 1ms/sample - loss: 0.0040\n",
            "Epoch 77/100\n",
            "6/6 [==============================] - 0s 2ms/sample - loss: 0.0039\n",
            "Epoch 78/100\n",
            "6/6 [==============================] - 0s 1ms/sample - loss: 0.0039\n",
            "Epoch 79/100\n",
            "6/6 [==============================] - 0s 2ms/sample - loss: 0.0038\n",
            "Epoch 80/100\n",
            "6/6 [==============================] - 0s 1ms/sample - loss: 0.0037\n",
            "Epoch 81/100\n",
            "6/6 [==============================] - 0s 2ms/sample - loss: 0.0036\n",
            "Epoch 82/100\n",
            "6/6 [==============================] - 0s 2ms/sample - loss: 0.0035\n",
            "Epoch 83/100\n",
            "6/6 [==============================] - 0s 790us/sample - loss: 0.0034\n",
            "Epoch 84/100\n",
            "6/6 [==============================] - 0s 1ms/sample - loss: 0.0033\n",
            "Epoch 85/100\n",
            "6/6 [==============================] - 0s 2ms/sample - loss: 0.0032\n",
            "Epoch 86/100\n",
            "6/6 [==============================] - 0s 2ms/sample - loss: 0.0031\n",
            "Epoch 87/100\n",
            "6/6 [==============================] - 0s 2ms/sample - loss: 0.0030\n",
            "Epoch 88/100\n",
            "6/6 [==============================] - 0s 2ms/sample - loss: 0.0029\n",
            "Epoch 89/100\n",
            "6/6 [==============================] - 0s 1ms/sample - loss: 0.0028\n",
            "Epoch 90/100\n",
            "6/6 [==============================] - 0s 2ms/sample - loss: 0.0027\n",
            "Epoch 91/100\n",
            "6/6 [==============================] - 0s 2ms/sample - loss: 0.0026\n",
            "Epoch 92/100\n",
            "6/6 [==============================] - 0s 1ms/sample - loss: 0.0025\n",
            "Epoch 93/100\n",
            "6/6 [==============================] - 0s 2ms/sample - loss: 0.0025\n",
            "Epoch 94/100\n",
            "6/6 [==============================] - 0s 1ms/sample - loss: 0.0024\n",
            "Epoch 95/100\n",
            "6/6 [==============================] - 0s 2ms/sample - loss: 0.0023\n",
            "Epoch 96/100\n",
            "6/6 [==============================] - 0s 1ms/sample - loss: 0.0023\n",
            "Epoch 97/100\n",
            "6/6 [==============================] - 0s 2ms/sample - loss: 0.0023\n",
            "Epoch 98/100\n",
            "6/6 [==============================] - 0s 1ms/sample - loss: 0.0022\n",
            "Epoch 99/100\n",
            "6/6 [==============================] - 0s 2ms/sample - loss: 0.0022\n",
            "Epoch 100/100\n",
            "6/6 [==============================] - 0s 1ms/sample - loss: 0.0021\n"
          ],
          "name": "stdout"
        }
      ]
    },
    {
      "cell_type": "code",
      "metadata": {
        "id": "wvkdEMGQj7Yv",
        "colab_type": "code",
        "outputId": "194c397e-1ac8-4780-f868-853def951093",
        "colab": {
          "base_uri": "https://localhost:8080/",
          "height": 122
        }
      },
      "source": [
        "print(model.predict(X))"
      ],
      "execution_count": 104,
      "outputs": [
        {
          "output_type": "stream",
          "text": [
            "[[0.45392495]\n",
            " [0.5450329 ]\n",
            " [0.6279408 ]\n",
            " [0.7018855 ]\n",
            " [0.76685655]\n",
            " [0.8234055 ]]\n"
          ],
          "name": "stdout"
        }
      ]
    },
    {
      "cell_type": "code",
      "metadata": {
        "id": "MmA9LNgYmDMC",
        "colab_type": "code",
        "colab": {}
      },
      "source": [
        "#LSTM start"
      ],
      "execution_count": 0,
      "outputs": []
    },
    {
      "cell_type": "code",
      "metadata": {
        "id": "kiQ36rqfmM1e",
        "colab_type": "code",
        "outputId": "76904bdc-b3b3-45de-e41f-dfcd3f9086b9",
        "colab": {
          "base_uri": "https://localhost:8080/",
          "height": 34
        }
      },
      "source": [
        "X = []\n",
        "Y = []\n",
        "\n",
        "for i in range(1000):\n",
        "  lst = np.random.rand(100) # 0 ~ 1 사이 숫자 100개 point\n",
        "  \n",
        "  idx = np.random.choice(100, 2, replace = False)\n",
        "\n",
        "  zeros = np.zeros(100)\n",
        "  zeros[idx] = 1 #선택된 2개만 1로 check 마치 원핫인코딩\n",
        "\n",
        "  X.append(np.array(list(zip(zeros, lst))))\n",
        "  Y.append(np.prod(lst[idx])) #곱한값 return\n",
        "\n",
        "check = np.array(X)\n",
        "print(check.shape)\n",
        "\n"
      ],
      "execution_count": 106,
      "outputs": [
        {
          "output_type": "stream",
          "text": [
            "(1000, 100, 2)\n"
          ],
          "name": "stdout"
        }
      ]
    },
    {
      "cell_type": "code",
      "metadata": {
        "id": "jPLiAv0lmgOA",
        "colab_type": "code",
        "outputId": "f696a160-70cd-4d5e-b8ba-6ea7bf344131",
        "colab": {
          "base_uri": "https://localhost:8080/",
          "height": 52
        }
      },
      "source": [
        "x = np.random.rand(10)\n",
        "print(x)"
      ],
      "execution_count": 107,
      "outputs": [
        {
          "output_type": "stream",
          "text": [
            "[0.01577315 0.05932565 0.74211931 0.51502426 0.53966076 0.63917844\n",
            " 0.96808123 0.29440673 0.60447746 0.86403796]\n"
          ],
          "name": "stdout"
        }
      ]
    },
    {
      "cell_type": "code",
      "metadata": {
        "id": "AO5EGkf-miH5",
        "colab_type": "code",
        "colab": {}
      },
      "source": [
        "model = tf.keras.Sequential([\n",
        "                             tf.keras.layers.SimpleRNN(units = 30, return_sequences=True, input_shape = (100, 2)),\n",
        "                             tf.keras.layers.SimpleRNN(units = 30),\n",
        "                            tf.keras.layers.Dense(1)\n",
        "])"
      ],
      "execution_count": 0,
      "outputs": []
    },
    {
      "cell_type": "code",
      "metadata": {
        "id": "jBh98hBdppAZ",
        "colab_type": "code",
        "colab": {}
      },
      "source": [
        "model.compile(optimizer = 'adam', loss = 'mse')"
      ],
      "execution_count": 0,
      "outputs": []
    },
    {
      "cell_type": "code",
      "metadata": {
        "id": "fZ3zWk9IqxMB",
        "colab_type": "code",
        "outputId": "7e3276e9-89ba-4dbe-d233-206f37744844",
        "colab": {
          "base_uri": "https://localhost:8080/",
          "height": 738
        }
      },
      "source": [
        "X = np.array(X)\n",
        "Y = np.array(Y)\n",
        "\n",
        "history = model.fit(X[:2560], Y[:2560], epochs = 20, validation_split = 0.2)\n"
      ],
      "execution_count": 110,
      "outputs": [
        {
          "output_type": "stream",
          "text": [
            "Train on 800 samples, validate on 200 samples\n",
            "Epoch 1/20\n",
            "800/800 [==============================] - 4s 5ms/sample - loss: 0.0980 - val_loss: 0.0456\n",
            "Epoch 2/20\n",
            "800/800 [==============================] - 3s 4ms/sample - loss: 0.0538 - val_loss: 0.0454\n",
            "Epoch 3/20\n",
            "800/800 [==============================] - 3s 4ms/sample - loss: 0.0515 - val_loss: 0.0472\n",
            "Epoch 4/20\n",
            "800/800 [==============================] - 3s 4ms/sample - loss: 0.0500 - val_loss: 0.0464\n",
            "Epoch 5/20\n",
            "800/800 [==============================] - 3s 4ms/sample - loss: 0.0492 - val_loss: 0.0435\n",
            "Epoch 6/20\n",
            "800/800 [==============================] - 3s 4ms/sample - loss: 0.0505 - val_loss: 0.0462\n",
            "Epoch 7/20\n",
            "800/800 [==============================] - 3s 4ms/sample - loss: 0.0492 - val_loss: 0.0458\n",
            "Epoch 8/20\n",
            "800/800 [==============================] - 3s 4ms/sample - loss: 0.0500 - val_loss: 0.0463\n",
            "Epoch 9/20\n",
            "800/800 [==============================] - 3s 4ms/sample - loss: 0.0493 - val_loss: 0.0445\n",
            "Epoch 10/20\n",
            "800/800 [==============================] - 3s 4ms/sample - loss: 0.0497 - val_loss: 0.0460\n",
            "Epoch 11/20\n",
            "800/800 [==============================] - 3s 4ms/sample - loss: 0.0482 - val_loss: 0.0446\n",
            "Epoch 12/20\n",
            "800/800 [==============================] - 3s 4ms/sample - loss: 0.0498 - val_loss: 0.0484\n",
            "Epoch 13/20\n",
            "800/800 [==============================] - 3s 4ms/sample - loss: 0.0504 - val_loss: 0.0447\n",
            "Epoch 14/20\n",
            "800/800 [==============================] - 3s 4ms/sample - loss: 0.0486 - val_loss: 0.0474\n",
            "Epoch 15/20\n",
            "800/800 [==============================] - 3s 4ms/sample - loss: 0.0496 - val_loss: 0.0496\n",
            "Epoch 16/20\n",
            "800/800 [==============================] - 3s 4ms/sample - loss: 0.0490 - val_loss: 0.0455\n",
            "Epoch 17/20\n",
            "800/800 [==============================] - 3s 4ms/sample - loss: 0.0488 - val_loss: 0.0451\n",
            "Epoch 18/20\n",
            "800/800 [==============================] - 3s 4ms/sample - loss: 0.0471 - val_loss: 0.0453\n",
            "Epoch 19/20\n",
            "800/800 [==============================] - 3s 4ms/sample - loss: 0.0524 - val_loss: 0.0474\n",
            "Epoch 20/20\n",
            "800/800 [==============================] - 3s 4ms/sample - loss: 0.0491 - val_loss: 0.0486\n"
          ],
          "name": "stdout"
        }
      ]
    },
    {
      "cell_type": "code",
      "metadata": {
        "id": "0hZ-1CjNq8Uq",
        "colab_type": "code",
        "outputId": "ebb56a50-5037-490d-b7f6-0f4a303e2410",
        "colab": {
          "base_uri": "https://localhost:8080/",
          "height": 314
        }
      },
      "source": [
        "plt.figure(figsize = (10,10))\n",
        "plt.subplot(2,1,1)\n",
        "plt.plot(history.history['loss'], 'r', label = 'loss')\n",
        "plt.plot(history.history['val_loss'], 'g', label = 'loss')"
      ],
      "execution_count": 111,
      "outputs": [
        {
          "output_type": "execute_result",
          "data": {
            "text/plain": [
              "[<matplotlib.lines.Line2D at 0x7f19b6d4b940>]"
            ]
          },
          "metadata": {
            "tags": []
          },
          "execution_count": 111
        },
        {
          "output_type": "display_data",
          "data": {
            "image/png": "[encoded data removed]",
            "text/plain": [
              "<Figure size 720x720 with 1 Axes>"
            ]
          },
          "metadata": {
            "tags": []
          }
        }
      ]
    },
    {
      "cell_type": "code",
      "metadata": {
        "id": "D4YZwNiCuEuN",
        "colab_type": "code",
        "colab": {
          "base_uri": "https://localhost:8080/",
          "height": 334
        },
        "outputId": "33e116f3-f857-47ad-fc07-6073b3280e67"
      },
      "source": [
        "model.evaluate()\n",
        "prediction = model.predict(X[:5])"
      ],
      "execution_count": 113,
      "outputs": [
        {
          "output_type": "error",
          "ename": "ValueError",
          "evalue": "ignored",
          "traceback": [
            "\u001b[0;31m---------------------------------------------------------------------------\u001b[0m",
            "\u001b[0;31mValueError\u001b[0m                                Traceback (most recent call last)",
            "\u001b[0;32m<ipython-input-113-a00de25a849f>\u001b[0m in \u001b[0;36m<module>\u001b[0;34m()\u001b[0m\n\u001b[0;32m----> 1\u001b[0;31m \u001b[0mmodel\u001b[0m\u001b[0;34m.\u001b[0m\u001b[0mevaluate\u001b[0m\u001b[0;34m(\u001b[0m\u001b[0;34m)\u001b[0m\u001b[0;34m\u001b[0m\u001b[0;34m\u001b[0m\u001b[0m\n\u001b[0m\u001b[1;32m      2\u001b[0m \u001b[0mprediction\u001b[0m \u001b[0;34m=\u001b[0m \u001b[0mmodel\u001b[0m\u001b[0;34m.\u001b[0m\u001b[0mpredict\u001b[0m\u001b[0;34m(\u001b[0m\u001b[0mX\u001b[0m\u001b[0;34m[\u001b[0m\u001b[0;34m:\u001b[0m\u001b[0;36m5\u001b[0m\u001b[0;34m]\u001b[0m\u001b[0;34m)\u001b[0m\u001b[0;34m\u001b[0m\u001b[0;34m\u001b[0m\u001b[0m\n",
            "\u001b[0;32m/tensorflow-2.1.0/python3.6/tensorflow_core/python/keras/engine/training.py\u001b[0m in \u001b[0;36mevaluate\u001b[0;34m(self, x, y, batch_size, verbose, sample_weight, steps, callbacks, max_queue_size, workers, use_multiprocessing)\u001b[0m\n\u001b[1;32m    928\u001b[0m         \u001b[0mmax_queue_size\u001b[0m\u001b[0;34m=\u001b[0m\u001b[0mmax_queue_size\u001b[0m\u001b[0;34m,\u001b[0m\u001b[0;34m\u001b[0m\u001b[0;34m\u001b[0m\u001b[0m\n\u001b[1;32m    929\u001b[0m         \u001b[0mworkers\u001b[0m\u001b[0;34m=\u001b[0m\u001b[0mworkers\u001b[0m\u001b[0;34m,\u001b[0m\u001b[0;34m\u001b[0m\u001b[0;34m\u001b[0m\u001b[0m\n\u001b[0;32m--> 930\u001b[0;31m         use_multiprocessing=use_multiprocessing)\n\u001b[0m\u001b[1;32m    931\u001b[0m \u001b[0;34m\u001b[0m\u001b[0m\n\u001b[1;32m    932\u001b[0m   def predict(self,\n",
            "\u001b[0;32m/tensorflow-2.1.0/python3.6/tensorflow_core/python/keras/engine/training_v2.py\u001b[0m in \u001b[0;36mevaluate\u001b[0;34m(self, model, x, y, batch_size, verbose, sample_weight, steps, callbacks, max_queue_size, workers, use_multiprocessing, **kwargs)\u001b[0m\n\u001b[1;32m    488\u001b[0m         \u001b[0msample_weight\u001b[0m\u001b[0;34m=\u001b[0m\u001b[0msample_weight\u001b[0m\u001b[0;34m,\u001b[0m \u001b[0msteps\u001b[0m\u001b[0;34m=\u001b[0m\u001b[0msteps\u001b[0m\u001b[0;34m,\u001b[0m \u001b[0mcallbacks\u001b[0m\u001b[0;34m=\u001b[0m\u001b[0mcallbacks\u001b[0m\u001b[0;34m,\u001b[0m\u001b[0;34m\u001b[0m\u001b[0;34m\u001b[0m\u001b[0m\n\u001b[1;32m    489\u001b[0m         \u001b[0mmax_queue_size\u001b[0m\u001b[0;34m=\u001b[0m\u001b[0mmax_queue_size\u001b[0m\u001b[0;34m,\u001b[0m \u001b[0mworkers\u001b[0m\u001b[0;34m=\u001b[0m\u001b[0mworkers\u001b[0m\u001b[0;34m,\u001b[0m\u001b[0;34m\u001b[0m\u001b[0;34m\u001b[0m\u001b[0m\n\u001b[0;32m--> 490\u001b[0;31m         use_multiprocessing=use_multiprocessing, **kwargs)\n\u001b[0m\u001b[1;32m    491\u001b[0m \u001b[0;34m\u001b[0m\u001b[0m\n\u001b[1;32m    492\u001b[0m   def predict(self, model, x, batch_size=None, verbose=0, steps=None,\n",
            "\u001b[0;32m/tensorflow-2.1.0/python3.6/tensorflow_core/python/keras/engine/training_v2.py\u001b[0m in \u001b[0;36m_model_iteration\u001b[0;34m(self, model, mode, x, y, batch_size, verbose, sample_weight, steps, callbacks, max_queue_size, workers, use_multiprocessing, **kwargs)\u001b[0m\n\u001b[1;32m    424\u001b[0m           \u001b[0mmax_queue_size\u001b[0m\u001b[0;34m=\u001b[0m\u001b[0mmax_queue_size\u001b[0m\u001b[0;34m,\u001b[0m\u001b[0;34m\u001b[0m\u001b[0;34m\u001b[0m\u001b[0m\n\u001b[1;32m    425\u001b[0m           \u001b[0mworkers\u001b[0m\u001b[0;34m=\u001b[0m\u001b[0mworkers\u001b[0m\u001b[0;34m,\u001b[0m\u001b[0;34m\u001b[0m\u001b[0;34m\u001b[0m\u001b[0m\n\u001b[0;32m--> 426\u001b[0;31m           use_multiprocessing=use_multiprocessing)\n\u001b[0m\u001b[1;32m    427\u001b[0m       \u001b[0mtotal_samples\u001b[0m \u001b[0;34m=\u001b[0m \u001b[0m_get_total_number_of_samples\u001b[0m\u001b[0;34m(\u001b[0m\u001b[0madapter\u001b[0m\u001b[0;34m)\u001b[0m\u001b[0;34m\u001b[0m\u001b[0;34m\u001b[0m\u001b[0m\n\u001b[1;32m    428\u001b[0m       \u001b[0muse_sample\u001b[0m \u001b[0;34m=\u001b[0m \u001b[0mtotal_samples\u001b[0m \u001b[0;32mis\u001b[0m \u001b[0;32mnot\u001b[0m \u001b[0;32mNone\u001b[0m\u001b[0;34m\u001b[0m\u001b[0;34m\u001b[0m\u001b[0m\n",
            "\u001b[0;32m/tensorflow-2.1.0/python3.6/tensorflow_core/python/keras/engine/training_v2.py\u001b[0m in \u001b[0;36m_process_inputs\u001b[0;34m(model, mode, x, y, batch_size, epochs, sample_weights, class_weights, shuffle, steps, distribution_strategy, max_queue_size, workers, use_multiprocessing)\u001b[0m\n\u001b[1;32m    634\u001b[0m                     use_multiprocessing=False):\n\u001b[1;32m    635\u001b[0m   \u001b[0;34m\"\"\"Process the inputs for fit/eval/predict().\"\"\"\u001b[0m\u001b[0;34m\u001b[0m\u001b[0;34m\u001b[0m\u001b[0m\n\u001b[0;32m--> 636\u001b[0;31m   \u001b[0madapter_cls\u001b[0m \u001b[0;34m=\u001b[0m \u001b[0mdata_adapter\u001b[0m\u001b[0;34m.\u001b[0m\u001b[0mselect_data_adapter\u001b[0m\u001b[0;34m(\u001b[0m\u001b[0mx\u001b[0m\u001b[0;34m,\u001b[0m \u001b[0my\u001b[0m\u001b[0;34m)\u001b[0m\u001b[0;34m\u001b[0m\u001b[0;34m\u001b[0m\u001b[0m\n\u001b[0m\u001b[1;32m    637\u001b[0m   standardize = functools.partial(\n\u001b[1;32m    638\u001b[0m       \u001b[0mmodel\u001b[0m\u001b[0;34m.\u001b[0m\u001b[0m_standardize_user_data\u001b[0m\u001b[0;34m,\u001b[0m\u001b[0;34m\u001b[0m\u001b[0;34m\u001b[0m\u001b[0m\n",
            "\u001b[0;32m/tensorflow-2.1.0/python3.6/tensorflow_core/python/keras/engine/data_adapter.py\u001b[0m in \u001b[0;36mselect_data_adapter\u001b[0;34m(x, y)\u001b[0m\n\u001b[1;32m    996\u001b[0m         \u001b[0;34m\"Failed to find data adapter that can handle \"\u001b[0m\u001b[0;34m\u001b[0m\u001b[0;34m\u001b[0m\u001b[0m\n\u001b[1;32m    997\u001b[0m         \"input: {}, {}\".format(\n\u001b[0;32m--> 998\u001b[0;31m             _type_name(x), _type_name(y)))\n\u001b[0m\u001b[1;32m    999\u001b[0m   \u001b[0;32melif\u001b[0m \u001b[0mlen\u001b[0m\u001b[0;34m(\u001b[0m\u001b[0madapter_cls\u001b[0m\u001b[0;34m)\u001b[0m \u001b[0;34m>\u001b[0m \u001b[0;36m1\u001b[0m\u001b[0;34m:\u001b[0m\u001b[0;34m\u001b[0m\u001b[0;34m\u001b[0m\u001b[0m\n\u001b[1;32m   1000\u001b[0m     raise RuntimeError(\n",
            "\u001b[0;31mValueError\u001b[0m: Failed to find data adapter that can handle input: <class 'NoneType'>, <class 'NoneType'>"
          ]
        }
      ]
    },
    {
      "cell_type": "code",
      "metadata": {
        "id": "XAMIljkyuyIz",
        "colab_type": "code",
        "colab": {
          "base_uri": "https://localhost:8080/",
          "height": 134
        },
        "outputId": "0317293d-24c1-419d-910d-b25dd9d9d759"
      },
      "source": [
        "prediction = model.predict(X[2560:2565])\n",
        "\n",
        "for i in range:\n",
        "  print(Y[2560 + i]))\n",
        "  print(prediction[i][0])\n",
        "  print(Y[2560 + i] - prediction[i][0])"
      ],
      "execution_count": 114,
      "outputs": [
        {
          "output_type": "error",
          "ename": "SyntaxError",
          "evalue": "ignored",
          "traceback": [
            "\u001b[0;36m  File \u001b[0;32m\"<ipython-input-114-c7c5e2c24611>\"\u001b[0;36m, line \u001b[0;32m4\u001b[0m\n\u001b[0;31m    print(Y[2560 + i]))\u001b[0m\n\u001b[0m                      ^\u001b[0m\n\u001b[0;31mSyntaxError\u001b[0m\u001b[0;31m:\u001b[0m invalid syntax\n"
          ]
        }
      ]
    },
    {
      "cell_type": "code",
      "metadata": {
        "id": "VIX5SPAvwYCO",
        "colab_type": "code",
        "outputId": "f2ceb40c-4117-4829-d83a-82f92269d96e",
        "colab": {
          "base_uri": "https://localhost:8080/",
          "height": 1000
        }
      },
      "source": [
        "X = []\n",
        "Y = []\n",
        "for i in range(3000):\n",
        "    # 0~1 사이의 랜덤한 숫자 100 개를 만듭니다.\n",
        "    lst = np.random.rand(100)\n",
        "    # 마킹할 숫자 2개의 인덱스를 뽑습니다.\n",
        "    idx = np.random.choice(100, 2, replace=False)\n",
        "    # 마킹 인덱스가 저장된 원-핫 인코딩 벡터를 만듭니다.\n",
        "    zeros = np.zeros(100)\n",
        "    zeros[idx] = 1\n",
        "    # 마킹 인덱스와 랜덤한 숫자를 합쳐서 X 에 저장합니다.\n",
        "    X.append(np.array(list(zip(zeros, lst))))\n",
        "    # 마킹 인덱스가 1인 값들만 서로 곱해서 Y 에 저장합니다.\n",
        "    Y.append(np.prod(lst[idx]))\n",
        "    \n",
        "print(X[0], Y[0])"
      ],
      "execution_count": 115,
      "outputs": [
        {
          "output_type": "stream",
          "text": [
            "[[0.         0.23818951]\n",
            " [0.         0.23447949]\n",
            " [0.         0.29544301]\n",
            " [1.         0.13126978]\n",
            " [0.         0.04676747]\n",
            " [0.         0.82672534]\n",
            " [0.         0.9705069 ]\n",
            " [0.         0.13850143]\n",
            " [0.         0.13907527]\n",
            " [0.         0.86922044]\n",
            " [0.         0.83287262]\n",
            " [0.         0.50139162]\n",
            " [0.         0.53525281]\n",
            " [0.         0.45613463]\n",
            " [0.         0.02518816]\n",
            " [0.         0.68622177]\n",
            " [0.         0.28819589]\n",
            " [0.         0.34756009]\n",
            " [0.         0.3956368 ]\n",
            " [0.         0.15390009]\n",
            " [0.         0.06792185]\n",
            " [0.         0.71744473]\n",
            " [0.         0.43435265]\n",
            " [0.         0.77657796]\n",
            " [0.         0.14491877]\n",
            " [0.         0.82424459]\n",
            " [0.         0.6372652 ]\n",
            " [0.         0.39666668]\n",
            " [0.         0.95594042]\n",
            " [0.         0.0541874 ]\n",
            " [0.         0.67359054]\n",
            " [0.         0.08800102]\n",
            " [0.         0.22147702]\n",
            " [0.         0.96807234]\n",
            " [0.         0.30194646]\n",
            " [0.         0.05013991]\n",
            " [0.         0.64841762]\n",
            " [0.         0.12231512]\n",
            " [0.         0.98229392]\n",
            " [0.         0.16254276]\n",
            " [0.         0.77545443]\n",
            " [0.         0.12021935]\n",
            " [0.         0.82413331]\n",
            " [0.         0.35193026]\n",
            " [0.         0.24166643]\n",
            " [0.         0.05855997]\n",
            " [0.         0.86599173]\n",
            " [0.         0.49527822]\n",
            " [0.         0.96901275]\n",
            " [0.         0.57216408]\n",
            " [0.         0.68862465]\n",
            " [0.         0.81069133]\n",
            " [0.         0.05580357]\n",
            " [0.         0.68978673]\n",
            " [0.         0.90337682]\n",
            " [0.         0.4503598 ]\n",
            " [0.         0.92394261]\n",
            " [0.         0.01591006]\n",
            " [0.         0.33175056]\n",
            " [0.         0.1387082 ]\n",
            " [0.         0.20727614]\n",
            " [0.         0.76393568]\n",
            " [0.         0.64637387]\n",
            " [1.         0.13920983]\n",
            " [0.         0.66309825]\n",
            " [0.         0.03822242]\n",
            " [0.         0.18856042]\n",
            " [0.         0.92190154]\n",
            " [0.         0.58826514]\n",
            " [0.         0.9777945 ]\n",
            " [0.         0.52218396]\n",
            " [0.         0.7748537 ]\n",
            " [0.         0.49745743]\n",
            " [0.         0.96403521]\n",
            " [0.         0.39412645]\n",
            " [0.         0.23735237]\n",
            " [0.         0.34302313]\n",
            " [0.         0.5173836 ]\n",
            " [0.         0.43787519]\n",
            " [0.         0.49579913]\n",
            " [0.         0.18743514]\n",
            " [0.         0.90214588]\n",
            " [0.         0.03933578]\n",
            " [0.         0.2054997 ]\n",
            " [0.         0.80079958]\n",
            " [0.         0.97234785]\n",
            " [0.         0.28129331]\n",
            " [0.         0.13589148]\n",
            " [0.         0.03664856]\n",
            " [0.         0.66689708]\n",
            " [0.         0.54513885]\n",
            " [0.         0.8957116 ]\n",
            " [0.         0.81940054]\n",
            " [0.         0.79350659]\n",
            " [0.         0.44787865]\n",
            " [0.         0.20158   ]\n",
            " [0.         0.29746746]\n",
            " [0.         0.97364704]\n",
            " [0.         0.12379587]\n",
            " [0.         0.30367079]] 0.018274043471368132\n"
          ],
          "name": "stdout"
        }
      ]
    },
    {
      "cell_type": "code",
      "metadata": {
        "id": "zA-16gxkwYZN",
        "colab_type": "code",
        "colab": {}
      },
      "source": [
        "model = tf.keras.Sequential([\n",
        "    tf.keras.layers.SimpleRNN(units=30, return_sequences=True, input_shape=[100,2]),\n",
        "    tf.keras.layers.SimpleRNN(units=30),\n",
        "    tf.keras.layers.Dense(1)\n",
        "])\n",
        "\n",
        "model.compile(optimizer='adam', loss='mse')\n",
        "model.summary()"
      ],
      "execution_count": 0,
      "outputs": []
    },
    {
      "cell_type": "code",
      "metadata": {
        "id": "osPNTwexwba_",
        "colab_type": "code",
        "colab": {}
      },
      "source": [
        "X = np.array(X)\n",
        "Y = np.array(Y)\n",
        "# 2560개의 데이터만 학습시킵니다. validation 데이터는 20% 로 지정합니다.\n",
        "history = model.fit(X[:2560], Y[:2560], epochs=100, validation_split=0.2)"
      ],
      "execution_count": 0,
      "outputs": []
    },
    {
      "cell_type": "code",
      "metadata": {
        "id": "FTHog14Ywc9R",
        "colab_type": "code",
        "colab": {}
      },
      "source": [
        "import matplotlib.pyplot as plt\n",
        "plt.plot(history.history['loss'], 'b-', label='loss')\n",
        "plt.plot(history.history['val_loss'], 'r--', label='val_loss')\n",
        "plt.xlabel('Epoch')\n",
        "plt.legend()\n",
        "plt.show()"
      ],
      "execution_count": 0,
      "outputs": []
    },
    {
      "cell_type": "code",
      "metadata": {
        "id": "xxYXKXPrwgpr",
        "colab_type": "code",
        "colab": {}
      },
      "source": [
        "model.evaluate(X[2560:], Y[2560:])\n",
        "prediction = model.predict(X[2560:2560+5])\n",
        "# 5개 테스트 데이터에 대한 예측을 표시합니다.\n",
        "for i in range(5):\n",
        "    print(Y[2560+i], '\\t', prediction[i], '\\tdiff:', abs(prediction[i][0] - Y[2560+i]))\n",
        "\n",
        "print(prediction[1])\n",
        "prediction = model.predict(X[2560:])\n",
        "fail = 0\n",
        "for i in range(len(prediction)):\n",
        "    # 오차가 0.04 이상이면 오답입니다.\n",
        "    if abs(prediction[i][0] - Y[2560+i]) > 0.04:\n",
        "        fail += 1\n",
        "print('correctness:', (440 - fail) / 440 * 100, '%')"
      ],
      "execution_count": 0,
      "outputs": []
    },
    {
      "cell_type": "code",
      "metadata": {
        "id": "_MQUn8plwijB",
        "colab_type": "code",
        "colab": {}
      },
      "source": [
        "path_to_train_file = tf.keras.utils.get_file('train.txt', 'https://raw.githubusercontent.com/e9t/nsmc/master/ratings_train.txt')"
      ],
      "execution_count": 0,
      "outputs": []
    },
    {
      "cell_type": "code",
      "metadata": {
        "id": "WS3AVg8x2Qab",
        "colab_type": "code",
        "colab": {}
      },
      "source": [
        "path_to_test_file = tf.keras.utils.get_file('test.txt', 'https://raw.githubusercontent.com/e9t/nsmc/master/ratings_test.txt')"
      ],
      "execution_count": 0,
      "outputs": []
    },
    {
      "cell_type": "code",
      "metadata": {
        "id": "CNz1uN4h2rGv",
        "colab_type": "code",
        "colab": {}
      },
      "source": [
        "train_text = open(path_to_train_file, 'rb').read().decode(encoding = 'utf-8')\n",
        "test_text = open(path_to_test_file, 'rb').read().decode(encoding = 'utf-8')"
      ],
      "execution_count": 0,
      "outputs": []
    },
    {
      "cell_type": "code",
      "metadata": {
        "id": "3S4F8GO33rbc",
        "colab_type": "code",
        "outputId": "de43ca20-f40e-4118-9082-0f771fd0b8be",
        "colab": {
          "base_uri": "https://localhost:8080/",
          "height": 34
        }
      },
      "source": [
        "print('length of text: {} characters'.format(len(train_text)))"
      ],
      "execution_count": 119,
      "outputs": [
        {
          "output_type": "stream",
          "text": [
            "length of text: 6937271 characters\n"
          ],
          "name": "stdout"
        }
      ]
    },
    {
      "cell_type": "code",
      "metadata": {
        "id": "4TXxeAHB3yPS",
        "colab_type": "code",
        "outputId": "3116ac2d-d7c4-4c2f-c5ab-ca72578a318d",
        "colab": {
          "base_uri": "https://localhost:8080/",
          "height": 210
        }
      },
      "source": [
        "print(train_text[:500])"
      ],
      "execution_count": 120,
      "outputs": [
        {
          "output_type": "stream",
          "text": [
            "id\tdocument\tlabel\n",
            "9976970\t아 더빙.. 진짜 짜증나네요 목소리\t0\n",
            "3819312\t흠...포스터보고 초딩영화줄....오버연기조차 가볍지 않구나\t1\n",
            "10265843\t너무재밓었다그래서보는것을추천한다\t0\n",
            "9045019\t교도소 이야기구먼 ..솔직히 재미는 없다..평점 조정\t0\n",
            "6483659\t사이몬페그의 익살스런 연기가 돋보였던 영화!스파이더맨에서 늙어보이기만 했던 커스틴 던스트가 너무나도 이뻐보였다\t1\n",
            "5403919\t막 걸음마 뗀 3세부터 초등학교 1학년생인 8살용영화.ㅋㅋㅋ...별반개도 아까움.\t0\n",
            "7797314\t원작의 긴장감을 제대로 살려내지못했다.\t0\n",
            "9443947\t별 반개도 아깝다 욕나온다 이응경 길용우 연기생활이몇년인지..정말 발로해도 그것보단 낫겟다 납치.감금만반복반복..이드라마는 가족도없다 연기못하는사람만모엿네\t0\n",
            "7156791\t액션이 없는데도 재미 있는 몇안되는 영화\t1\n",
            "5912145\t왜케 평점이 낮은건데? 꽤 볼만한데.. 헐리우드식 화려함에만 너무 길들여져\n"
          ],
          "name": "stdout"
        }
      ]
    },
    {
      "cell_type": "code",
      "metadata": {
        "id": "I5wqRlVH30jX",
        "colab_type": "code",
        "colab": {}
      },
      "source": [
        "train_Y = np.array([[int(row.split('\\t')[2])] for row in train_text.split('\\n')[1:] if row.count('\\t') > 0])\n",
        "test_Y = np.array([[int(row.split('\\t')[2])] for row in test_text.split('\\n')[1:] if row.count('\\t') > 0])"
      ],
      "execution_count": 0,
      "outputs": []
    },
    {
      "cell_type": "code",
      "metadata": {
        "id": "w3TDeafM5Tou",
        "colab_type": "code",
        "outputId": "6ad04c7a-f209-4af1-d0bf-722cb7e1e0fe",
        "colab": {
          "base_uri": "https://localhost:8080/",
          "height": 34
        }
      },
      "source": [
        "x = \"this is it\"\n",
        "y = (x.split(\" \"))\n",
        "print(x.count(' '))"
      ],
      "execution_count": 122,
      "outputs": [
        {
          "output_type": "stream",
          "text": [
            "2\n"
          ],
          "name": "stdout"
        }
      ]
    },
    {
      "cell_type": "code",
      "metadata": {
        "id": "7a24AxRD53Vw",
        "colab_type": "code",
        "outputId": "42ae90ae-e3f8-451a-cc1d-7407a60cda61",
        "colab": {
          "base_uri": "https://localhost:8080/",
          "height": 193
        }
      },
      "source": [
        "import re\n",
        "# From https://github.com/yoonkim/CNN_sentence/blob/master/process_data.py\n",
        "def clean_str(string):    \n",
        "    string = re.sub(r\"[^가-힣A-Za-z0-9(),!?\\'\\`]\", \" \", string)\n",
        "    string = re.sub(r\"\\'s\", \" \\'s\", string)\n",
        "    string = re.sub(r\"\\'ve\", \" \\'ve\", string)\n",
        "    string = re.sub(r\"n\\'t\", \" n\\'t\", string)\n",
        "    string = re.sub(r\"\\'re\", \" \\'re\", string)\n",
        "    string = re.sub(r\"\\'d\", \" \\'d\", string)\n",
        "    string = re.sub(r\"\\'ll\", \" \\'ll\", string)\n",
        "    string = re.sub(r\",\", \" , \", string)\n",
        "    string = re.sub(r\"!\", \" ! \", string)\n",
        "    string = re.sub(r\"\\(\", \" \\( \", string)\n",
        "    string = re.sub(r\"\\)\", \" \\) \", string)\n",
        "    string = re.sub(r\"\\?\", \" \\? \", string)\n",
        "    string = re.sub(r\"\\s{2,}\", \" \", string)\n",
        "    string = re.sub(r\"\\'{2,}\", \"\\'\", string)\n",
        "    string = re.sub(r\"\\'\", \"\", string)\n",
        "\n",
        "    return string.lower()\n",
        "\n",
        "\n",
        "train_text_X = [row.split('\\t')[1] for row in train_text.split('\\n')[1:] if row.count('\\t') > 0]\n",
        "train_text_X = [clean_str(sentence) for sentence in train_text_X]\n",
        "# 문장을 띄어쓰기 단위로 단어 분리\n",
        "sentences = [sentence.split(' ') for sentence in train_text_X]\n",
        "for i in range(5):\n",
        "    print(sentences[i])\n",
        "    print(len(sentences[i]))"
      ],
      "execution_count": 125,
      "outputs": [
        {
          "output_type": "stream",
          "text": [
            "['아', '더빙', '진짜', '짜증나네요', '목소리']\n",
            "5\n",
            "['흠', '포스터보고', '초딩영화줄', '오버연기조차', '가볍지', '않구나']\n",
            "6\n",
            "['너무재밓었다그래서보는것을추천한다']\n",
            "1\n",
            "['교도소', '이야기구먼', '솔직히', '재미는', '없다', '평점', '조정']\n",
            "7\n",
            "['사이몬페그의', '익살스런', '연기가', '돋보였던', '영화', '!', '스파이더맨에서', '늙어보이기만', '했던', '커스틴', '던스트가', '너무나도', '이뻐보였다']\n",
            "13\n"
          ],
          "name": "stdout"
        }
      ]
    },
    {
      "cell_type": "code",
      "metadata": {
        "id": "phw6l0aW9DGT",
        "colab_type": "code",
        "colab": {
          "base_uri": "https://localhost:8080/",
          "height": 265
        },
        "outputId": "ff176b27-332b-4f73-be67-88d44467bac9"
      },
      "source": [
        "import matplotlib.pyplot as plt\n",
        "sentence_len = [len(sentence) for sentence in sentences]\n",
        "#print(sentence_len)\n",
        "sentence_len.sort()\n",
        "plt.plot(sentence_len)\n",
        "plt.show()"
      ],
      "execution_count": 127,
      "outputs": [
        {
          "output_type": "display_data",
          "data": {
            "image/png": "[encoded data removed]",
            "text/plain": [
              "<Figure size 432x288 with 1 Axes>"
            ]
          },
          "metadata": {
            "tags": []
          }
        }
      ]
    },
    {
      "cell_type": "code",
      "metadata": {
        "id": "xlcTKx77CuEl",
        "colab_type": "code",
        "colab": {
          "base_uri": "https://localhost:8080/",
          "height": 34
        },
        "outputId": "1cd73b8f-2680-44c6-fdec-4c8131aa7b53"
      },
      "source": [
        "print(sum([int(l < 25) for l in sentence_len]))"
      ],
      "execution_count": 128,
      "outputs": [
        {
          "output_type": "stream",
          "text": [
            "141836\n"
          ],
          "name": "stdout"
        }
      ]
    },
    {
      "cell_type": "code",
      "metadata": {
        "id": "khWRSe7ZDWla",
        "colab_type": "code",
        "colab": {
          "base_uri": "https://localhost:8080/",
          "height": 105
        },
        "outputId": "7013dd16-098a-4696-be7d-d38bd11e60df"
      },
      "source": [
        "sentences_new = []\n",
        "for sentence in sentences:\n",
        "    sentences_new.append([word[:5] for word in sentence][:25])\n",
        "sentences = sentences_new\n",
        "for i in range(5):\n",
        "    print(sentences[i])"
      ],
      "execution_count": 130,
      "outputs": [
        {
          "output_type": "stream",
          "text": [
            "['아', '더빙', '진짜', '짜증나네요', '목소리']\n",
            "['흠', '포스터보고', '초딩영화줄', '오버연기조', '가볍지', '않구나']\n",
            "['너무재밓었']\n",
            "['교도소', '이야기구먼', '솔직히', '재미는', '없다', '평점', '조정']\n",
            "['사이몬페그', '익살스런', '연기가', '돋보였던', '영화', '!', '스파이더맨', '늙어보이기', '했던', '커스틴', '던스트가', '너무나도', '이뻐보였다']\n"
          ],
          "name": "stdout"
        }
      ]
    },
    {
      "cell_type": "code",
      "metadata": {
        "id": "YOZTRaapEpHL",
        "colab_type": "code",
        "colab": {}
      },
      "source": [
        "from tensorflow.keras.preprocessing.text import Tokenizer\n",
        "from tensorflow.keras.preprocessing.sequence import pad_sequences"
      ],
      "execution_count": 0,
      "outputs": []
    },
    {
      "cell_type": "code",
      "metadata": {
        "id": "UxPUhsMeHYHm",
        "colab_type": "code",
        "colab": {
          "base_uri": "https://localhost:8080/",
          "height": 281
        },
        "outputId": "9584270a-88d4-4c94-f4b6-5793e8237b13"
      },
      "source": [
        "tokenizer = Tokenizer(num_words = 20000)\n",
        "tokenizer.fit_on_texts(sentences)\n",
        "train_X = tokenizer.texts_to_sequences(sentences)\n",
        "train_X = pad_sequences(train_X, padding= 'post')\n",
        "\n",
        "print(train_X[:5])"
      ],
      "execution_count": 133,
      "outputs": [
        {
          "output_type": "stream",
          "text": [
            "[[   25   884     8  5795  1111     0     0     0     0     0     0     0\n",
            "      0     0     0     0     0     0     0     0     0     0     0     0\n",
            "      0]\n",
            " [  588  5796  6697     0     0     0     0     0     0     0     0     0\n",
            "      0     0     0     0     0     0     0     0     0     0     0     0\n",
            "      0]\n",
            " [    0     0     0     0     0     0     0     0     0     0     0     0\n",
            "      0     0     0     0     0     0     0     0     0     0     0     0\n",
            "      0]\n",
            " [   71   346    31    35 10468     0     0     0     0     0     0     0\n",
            "      0     0     0     0     0     0     0     0     0     0     0     0\n",
            "      0]\n",
            " [  106  5338     4     2  2169   869   573     0     0     0     0     0\n",
            "      0     0     0     0     0     0     0     0     0     0     0     0\n",
            "      0]]\n"
          ],
          "name": "stdout"
        }
      ]
    },
    {
      "cell_type": "code",
      "metadata": {
        "id": "1cjUk61kIAVx",
        "colab_type": "code",
        "colab": {
          "base_uri": "https://localhost:8080/",
          "height": 52
        },
        "outputId": "be0dd6ab-af7f-4259-e4e4-519b2189458b"
      },
      "source": [
        "print(tokenizer.index_word[6])\n",
        "print(tokenizer.index_word[20000])\n",
        "\n",
        "\n"
      ],
      "execution_count": 140,
      "outputs": [
        {
          "output_type": "stream",
          "text": [
            "너무\n",
            "잊혀질\n"
          ],
          "name": "stdout"
        }
      ]
    },
    {
      "cell_type": "code",
      "metadata": {
        "id": "6ztbh7VVJUOV",
        "colab_type": "code",
        "colab": {
          "base_uri": "https://localhost:8080/",
          "height": 34
        },
        "outputId": "3f62fb6d-e22a-4952-ef8d-8f7ec6f3fb89"
      },
      "source": [
        "temp = tokenizer.texts_to_sequences(['#$#$#', '경우는', '잊혀질', '연기가'])\n",
        "print(temp)"
      ],
      "execution_count": 142,
      "outputs": [
        {
          "output_type": "stream",
          "text": [
            "[[], [19999], [], [106]]\n"
          ],
          "name": "stdout"
        }
      ]
    },
    {
      "cell_type": "code",
      "metadata": {
        "id": "V-NrsQh7Jl1W",
        "colab_type": "code",
        "colab": {
          "base_uri": "https://localhost:8080/",
          "height": 87
        },
        "outputId": "bed03995-891a-4092-c419-5a9361df50c3"
      },
      "source": [
        "temp = pad_sequences(temp, padding = 'post')\n",
        "print(temp)"
      ],
      "execution_count": 143,
      "outputs": [
        {
          "output_type": "stream",
          "text": [
            "[[    0]\n",
            " [19999]\n",
            " [    0]\n",
            " [  106]]\n"
          ],
          "name": "stdout"
        }
      ]
    },
    {
      "cell_type": "code",
      "metadata": {
        "id": "6x0emLeYJxyx",
        "colab_type": "code",
        "colab": {}
      },
      "source": [
        ""
      ],
      "execution_count": 0,
      "outputs": []
    }
  ]
}